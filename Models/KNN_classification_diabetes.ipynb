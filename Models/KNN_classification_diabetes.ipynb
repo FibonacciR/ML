{
 "cells": [
  {
   "metadata": {},
   "cell_type": "markdown",
   "source": [
    "### K-Nearest Neighbors (KNN) \n",
    "Is an algorithm that stores all available cases and classifies new cases based on a similarity measure (e.g., distance functions).\n",
    "\n",
    "Centroid-based algorithms are a type of clustering algorithm that uses the mean vector (centroid) to group similar data points together. The K-means algorithm is a popular centroid-based algorithm that partitions the data into K clusters. The algorithm works by iteratively assigning data points to the nearest cluster centroid and then recalculating the centroid based on the new data points. This process is repeated until the centroids no longer change significantly or a maximum number of iterations is reached."
   ],
   "id": "b7c65dc88e0c5e83"
  },
  {
   "metadata": {
    "ExecuteTime": {
     "end_time": "2024-11-13T14:59:45.161257Z",
     "start_time": "2024-11-13T14:59:45.156268Z"
    }
   },
   "cell_type": "code",
   "source": [
    "# Import the required libraries\n",
    "from sklearn.datasets import load_diabetes\n",
    "from sklearn.neighbors import KNeighborsClassifier\n",
    "from sklearn.model_selection import train_test_split\n",
    "from sklearn.metrics import accuracy_score\n",
    "import numpy as np\n",
    "from sklearn.datasets import load_diabetes\n",
    "from sklearn.neighbors import KNeighborsClassifier\n",
    "from sklearn.model_selection import train_test_split\n",
    "from sklearn.metrics import accuracy_score"
   ],
   "id": "622124b9cbcbc641",
   "outputs": [],
   "execution_count": 2
  },
  {
   "metadata": {
    "ExecuteTime": {
     "end_time": "2024-11-13T15:02:21.715615Z",
     "start_time": "2024-11-13T15:02:21.691668Z"
    }
   },
   "cell_type": "code",
   "source": [
    "\n",
    "# Cargar el dataset de diabetes\n",
    "diabetes = load_diabetes()\n",
    "X = diabetes.data  # Características\n",
    "y = (diabetes.target > 140).astype(int)  # Convertir a clasificación binaria: 1 si > 140 (diabetes), 0 si <= 140\n",
    "\n",
    "# Dividir el dataset en conjunto de entrenamiento y de prueba\n",
    "X_train, X_test, y_train, y_test = train_test_split(X, y, test_size=0.3, random_state=0)\n",
    "\n",
    "# Configurar el modelo KNN con k=5 vecinos\n",
    "knn = KNeighborsClassifier(n_neighbors=5)\n",
    "\n",
    "# Entrenar el modelo con los datos de entrenamiento\n",
    "knn.fit(X_train, y_train)\n",
    "\n",
    "# Hacer predicciones en el conjunto de prueba\n",
    "y_pred = knn.predict(X_test)\n",
    "\n",
    "# Calcular la precisión del modelo\n",
    "accuracy = accuracy_score(y_test, y_pred)\n",
    "print(\"Accuracy of model KNN:\", accuracy) \n"
   ],
   "id": "26ba48ffe9d69e4e",
   "outputs": [
    {
     "name": "stdout",
     "output_type": "stream",
     "text": [
      "Accuracy of model KNN: 0.706766917293233\n"
     ]
    }
   ],
   "execution_count": 6
  },
  {
   "metadata": {
    "ExecuteTime": {
     "end_time": "2024-11-13T15:02:26.016622Z",
     "start_time": "2024-11-13T15:02:26.005293Z"
    }
   },
   "cell_type": "code",
   "source": [
    "\n",
    "\n",
    "# Load the diabetes dataset\n",
    "diabetes = load_diabetes()\n",
    "X = diabetes.data  # Características\n",
    "y = (diabetes.target > 140).astype(int)  # Convertir a clasificación binaria: 1 si > 140 (diabetes), 0 si <= 140\n",
    "\n",
    "# split the dataset into training and test sets\n",
    "X_train, X_test, y_train, y_test = train_test_split(X, y, test_size=0.3, random_state=0)\n",
    "\n",
    "# Configure the  KNN Model with k=5 neighbors\n",
    "knn = KNeighborsClassifier(n_neighbors=5)\n",
    "knn.fit(X_train, y_train)\n",
    "\n",
    "# We will select the 80th sample for prediction\n",
    "sample_index = 80  # We will use the 80th sample for prediction\n",
    "sample_data = X_test[sample_index].reshape(1, -1)  # Tomamos las características de esta muestra\n",
    "\n",
    "# Predicción de si el paciente tiene diabetes usando el modelo KNN\n",
    "predicted_class = knn.predict(sample_data)[0]  # Clase predicha (0 o 1)\n",
    "actual_class = y_test[sample_index]  # Clase real (0 o 1)\n",
    "\n",
    "# Showing results\n",
    "print(\"Predicción del modelo (1=diabetes, 0=no diabetes):\", predicted_class)\n",
    "print(\"Clase real:\", actual_class)\n"
   ],
   "id": "d19ed17934d4beab",
   "outputs": [
    {
     "name": "stdout",
     "output_type": "stream",
     "text": [
      "Predicción del modelo (1=diabetes, 0=no diabetes): 0\n",
      "Clase real: 1\n"
     ]
    }
   ],
   "execution_count": 7
  },
  {
   "metadata": {
    "ExecuteTime": {
     "end_time": "2024-11-13T15:02:28.925843Z",
     "start_time": "2024-11-13T15:02:28.922990Z"
    }
   },
   "cell_type": "code",
   "source": "\n",
   "id": "8d00e51df26d8edd",
   "outputs": [],
   "execution_count": 7
  },
  {
   "metadata": {},
   "cell_type": "code",
   "outputs": [],
   "execution_count": null,
   "source": "",
   "id": "6676d9bbff451ec8"
  }
 ],
 "metadata": {
  "kernelspec": {
   "display_name": "Python 3",
   "language": "python",
   "name": "python3"
  },
  "language_info": {
   "codemirror_mode": {
    "name": "ipython",
    "version": 2
   },
   "file_extension": ".py",
   "mimetype": "text/x-python",
   "name": "python",
   "nbconvert_exporter": "python",
   "pygments_lexer": "ipython2",
   "version": "2.7.6"
  }
 },
 "nbformat": 4,
 "nbformat_minor": 5
}
